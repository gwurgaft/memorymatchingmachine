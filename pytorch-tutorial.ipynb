{
 "cells": [
  {
   "cell_type": "markdown",
   "id": "33b2b3b6",
   "metadata": {},
   "source": [
    "Two primitives to work with data: torch.utils.data.Dataloader and torch.utils.Dataset"
   ]
  },
  {
   "cell_type": "markdown",
   "id": "8dd6a1ab",
   "metadata": {},
   "source": [
    "Dataset stores the samples and corresponding labels, Dataloader wraps an iterable around the dataset"
   ]
  },
  {
   "cell_type": "code",
   "execution_count": 1,
   "id": "577f5a94",
   "metadata": {},
   "outputs": [],
   "source": [
    "import torch\n",
    "from torch import nn\n",
    "from torch.utils.data import DataLoader\n",
    "from torchvision import datasets\n",
    "from torchvision.transforms import ToTensor"
   ]
  },
  {
   "cell_type": "markdown",
   "id": "5d883970",
   "metadata": {},
   "source": [
    "Offers torchtext, torchvision, and torchaudio"
   ]
  },
  {
   "cell_type": "markdown",
   "id": "6eb0282a",
   "metadata": {},
   "source": [
    "torchvision.datasets contain Dataset objects for real world vision\n",
    "Transform (modifies the samples), target transform modifies the labels"
   ]
  },
  {
   "cell_type": "code",
   "execution_count": 2,
   "id": "974e067d",
   "metadata": {},
   "outputs": [],
   "source": [
    "training_data = datasets.FashionMNIST(\n",
    "    root=\"data\",\n",
    "    train=True,\n",
    "    download=True,\n",
    "    transform=ToTensor(),\n",
    ")\n",
    "\n",
    "test_data = datasets.FashionMNIST(\n",
    "    root=\"data\",\n",
    "    train=False,\n",
    "    download=True,\n",
    "    transform=ToTensor(),\n",
    ")\n"
   ]
  },
  {
   "cell_type": "markdown",
   "id": "6a5c0277",
   "metadata": {},
   "source": [
    "Pass dataset as argument to dataloader. Wraps iterable over dataset and supports automatic batching, sampling, shuffling and multiprocess data loading"
   ]
  },
  {
   "cell_type": "code",
   "execution_count": 3,
   "id": "325c8325",
   "metadata": {},
   "outputs": [
    {
     "name": "stdout",
     "output_type": "stream",
     "text": [
      "Shape of X [N, C, H, W]: torch.Size([64, 1, 28, 28])\n",
      "Shape of y: torch.Size([64]) torch.int64\n"
     ]
    }
   ],
   "source": [
    "#Each element in dataloader iterable will return batch of 64 features and labels\n",
    "batch_size=64\n",
    "train_dataloader = DataLoader(training_data, batch_size=batch_size)\n",
    "test_dataloader = DataLoader(test_data, batch_size=batch_size)\n",
    "\n",
    "#Look into this more\n",
    "for X, y in test_dataloader:\n",
    "    print(f\"Shape of X [N, C, H, W]: {X.shape}\")\n",
    "    print(f\"Shape of y: {y.shape} {y.dtype}\")\n",
    "    break\n"
   ]
  },
  {
   "cell_type": "markdown",
   "id": "f195bd1c",
   "metadata": {},
   "source": [
    "To define neural network in pytorch, create class inherting from nn.Module\n",
    "Layers of network in __init__ function, specify how layers pass through the network in the forward function"
   ]
  },
  {
   "cell_type": "code",
   "execution_count": 4,
   "id": "b0ac1fc0",
   "metadata": {},
   "outputs": [
    {
     "name": "stdout",
     "output_type": "stream",
     "text": [
      "Using cpu device\n",
      "NeuralNetwork(\n",
      "  (flatten): Flatten(start_dim=1, end_dim=-1)\n",
      "  (linear_relu_stack): Sequential(\n",
      "    (0): Linear(in_features=784, out_features=512, bias=True)\n",
      "    (1): ReLU()\n",
      "    (2): Linear(in_features=512, out_features=512, bias=True)\n",
      "    (3): ReLU()\n",
      "    (4): Linear(in_features=512, out_features=10, bias=True)\n",
      "  )\n",
      ")\n"
     ]
    }
   ],
   "source": [
    "device = \"cpu\"\n",
    "print(f\"Using {device} device\")\n",
    "\n",
    "# Define model\n",
    "class NeuralNetwork(nn.Module):\n",
    "    def __init__(self):\n",
    "        super().__init__()\n",
    "        self.flatten = nn.Flatten()\n",
    "        self.linear_relu_stack = nn.Sequential(\n",
    "            nn.Linear(28*28, 512),\n",
    "            nn.ReLU(),\n",
    "            nn.Linear(512,512),\n",
    "            nn.ReLU(),\n",
    "            nn.Linear(512,10)\n",
    "        )\n",
    "    def forward(self, x):\n",
    "        x = self.flatten(x)\n",
    "        logits = self.linear_relu_stack(x)\n",
    "        return logits\n",
    "model = NeuralNetwork().to(device)\n",
    "print(model)"
   ]
  },
  {
   "cell_type": "markdown",
   "id": "b79e743f",
   "metadata": {},
   "source": [
    "Need loss function and optimizer to train a model"
   ]
  },
  {
   "cell_type": "code",
   "execution_count": 5,
   "id": "9926169f",
   "metadata": {},
   "outputs": [],
   "source": [
    "loss_fn = nn.CrossEntropyLoss()\n",
    "optimizer = torch.optim.SGD(model.parameters(), lr=1e-3)"
   ]
  },
  {
   "cell_type": "code",
   "execution_count": 6,
   "id": "a77c8ff9",
   "metadata": {},
   "outputs": [],
   "source": [
    "def train(dataloader, model, loss_fn, optimizer):\n",
    "    size = len(dataloader.dataset)\n",
    "    model.train()\n",
    "    for batch, (X, y) in enumerate(dataloader):\n",
    "        X, y = X.to(device), y.to(device)\n",
    "        \n",
    "        pred = model(X)\n",
    "        loss = loss_fn(pred, y)\n",
    "        \n",
    "        #Backpropagation\n",
    "        loss.backward()\n",
    "        optimizer.step()\n",
    "        optimizer.zero_grad()\n",
    "        \n",
    "        if batch % 100 == 0:\n",
    "            loss, current = loss.item(), (batch + 1) * len(X)\n",
    "            print(f\"loss: {loss:>7f} [{current:>5d}/{size:>5d}]\")"
   ]
  },
  {
   "cell_type": "code",
   "execution_count": 7,
   "id": "cd893ef6",
   "metadata": {},
   "outputs": [],
   "source": [
    "def test(dataloader, model, loss_fn):\n",
    "    size = len(dataloader.dataset)\n",
    "    num_batches = len(dataloader)\n",
    "    model.eval()\n",
    "    test_loss, correct = 0, 0\n",
    "    with torch.no_grad():\n",
    "        for X, y in dataloader:\n",
    "            X, y = X.to(device), y.to(device)\n",
    "            pred = model(X)\n",
    "            test_loss += loss_fn(pred, y).item()\n",
    "            correct += (pred.argmax(1) == y).type(torch.float).sum().item()\n",
    "    test_loss /= num_batches\n",
    "    correct /= size\n",
    "    print(f\"Test Error: \\n Accuracy: {(100*correct):>0.1f}%, Avg loss: {test_loss:>8f} \\n\")"
   ]
  },
  {
   "cell_type": "code",
   "execution_count": 8,
   "id": "932af50d",
   "metadata": {},
   "outputs": [
    {
     "name": "stdout",
     "output_type": "stream",
     "text": [
      "Epoch 1\n",
      "---------------------------\n",
      "loss: 2.299927 [   64/60000]\n",
      "loss: 2.290554 [ 6464/60000]\n",
      "loss: 2.272920 [12864/60000]\n",
      "loss: 2.269971 [19264/60000]\n",
      "loss: 2.247929 [25664/60000]\n",
      "loss: 2.228224 [32064/60000]\n",
      "loss: 2.236415 [38464/60000]\n",
      "loss: 2.205020 [44864/60000]\n",
      "loss: 2.200093 [51264/60000]\n",
      "loss: 2.169272 [57664/60000]\n",
      "Test Error: \n",
      " Accuracy: 40.2%, Avg loss: 2.164590 \n",
      "\n",
      "Epoch 2\n",
      "---------------------------\n",
      "loss: 2.171118 [   64/60000]\n",
      "loss: 2.163300 [ 6464/60000]\n",
      "loss: 2.108594 [12864/60000]\n",
      "loss: 2.125295 [19264/60000]\n",
      "loss: 2.075320 [25664/60000]\n",
      "loss: 2.018136 [32064/60000]\n",
      "loss: 2.045890 [38464/60000]\n",
      "loss: 1.971141 [44864/60000]\n",
      "loss: 1.979437 [51264/60000]\n",
      "loss: 1.906013 [57664/60000]\n",
      "Test Error: \n",
      " Accuracy: 54.4%, Avg loss: 1.906195 \n",
      "\n",
      "Epoch 3\n",
      "---------------------------\n",
      "loss: 1.934625 [   64/60000]\n",
      "loss: 1.907697 [ 6464/60000]\n",
      "loss: 1.795442 [12864/60000]\n",
      "loss: 1.831597 [19264/60000]\n",
      "loss: 1.731190 [25664/60000]\n",
      "loss: 1.673362 [32064/60000]\n",
      "loss: 1.700155 [38464/60000]\n",
      "loss: 1.603705 [44864/60000]\n",
      "loss: 1.634462 [51264/60000]\n",
      "loss: 1.529153 [57664/60000]\n",
      "Test Error: \n",
      " Accuracy: 60.7%, Avg loss: 1.544159 \n",
      "\n",
      "Epoch 4\n",
      "---------------------------\n",
      "loss: 1.607296 [   64/60000]\n",
      "loss: 1.572084 [ 6464/60000]\n",
      "loss: 1.427416 [12864/60000]\n",
      "loss: 1.487774 [19264/60000]\n",
      "loss: 1.382259 [25664/60000]\n",
      "loss: 1.367118 [32064/60000]\n",
      "loss: 1.382686 [38464/60000]\n",
      "loss: 1.310542 [44864/60000]\n",
      "loss: 1.346434 [51264/60000]\n",
      "loss: 1.249413 [57664/60000]\n",
      "Test Error: \n",
      " Accuracy: 63.3%, Avg loss: 1.270208 \n",
      "\n",
      "Epoch 5\n",
      "---------------------------\n",
      "loss: 1.344651 [   64/60000]\n",
      "loss: 1.323815 [ 6464/60000]\n",
      "loss: 1.165634 [12864/60000]\n",
      "loss: 1.257680 [19264/60000]\n",
      "loss: 1.145480 [25664/60000]\n",
      "loss: 1.161407 [32064/60000]\n",
      "loss: 1.181637 [38464/60000]\n",
      "loss: 1.123959 [44864/60000]\n",
      "loss: 1.162486 [51264/60000]\n",
      "loss: 1.081361 [57664/60000]\n",
      "Test Error: \n",
      " Accuracy: 64.8%, Avg loss: 1.097766 \n",
      "\n",
      "Done!\n"
     ]
    }
   ],
   "source": [
    "epochs = 5\n",
    "for t in range(epochs):\n",
    "    print(f\"Epoch {t+1}\\n---------------------------\")\n",
    "    train(train_dataloader, model, loss_fn, optimizer)\n",
    "    test(test_dataloader, model, loss_fn)\n",
    "print(\"Done!\")"
   ]
  },
  {
   "cell_type": "code",
   "execution_count": 9,
   "id": "e3fef864",
   "metadata": {},
   "outputs": [
    {
     "name": "stdout",
     "output_type": "stream",
     "text": [
      "Saved Pytorch Model State to model.pth\n"
     ]
    }
   ],
   "source": [
    "torch.save(model.state_dict(), \"model.pth\")\n",
    "print(\"Saved Pytorch Model State to model.pth\")"
   ]
  },
  {
   "cell_type": "code",
   "execution_count": 10,
   "id": "fb8382dc",
   "metadata": {},
   "outputs": [
    {
     "data": {
      "text/plain": [
       "<All keys matched successfully>"
      ]
     },
     "execution_count": 10,
     "metadata": {},
     "output_type": "execute_result"
    }
   ],
   "source": [
    "model = NeuralNetwork().to(device)\n",
    "model.load_state_dict(torch.load(\"model.pth\", weights_only=True))"
   ]
  },
  {
   "cell_type": "code",
   "execution_count": 11,
   "id": "53c4e77f",
   "metadata": {},
   "outputs": [
    {
     "name": "stdout",
     "output_type": "stream",
     "text": [
      "Predicted: \"Ankle boot\", Actual: \"Ankle boot\"\n"
     ]
    }
   ],
   "source": [
    "classes = [\n",
    "    \"T-shirt/top\",\n",
    "    \"Trouser\",\n",
    "    \"Pullover\",\n",
    "    \"Dress\",\n",
    "    \"Coat\",\n",
    "    \"Sandal\",\n",
    "    \"Shirt\",\n",
    "    \"Sneaker\",\n",
    "    \"Bag\",\n",
    "    \"Ankle boot\",\n",
    "]\n",
    "model.eval()\n",
    "x, y = test_data[0][0], test_data[0][1]\n",
    "with torch.no_grad():\n",
    "    x = x.to(device)\n",
    "    pred = model(x)\n",
    "    predicted, actual = classes[pred[0].argmax(0)], classes[y]\n",
    "    print(f'Predicted: \"{predicted}\", Actual: \"{actual}\"')"
   ]
  },
  {
   "cell_type": "markdown",
   "id": "9d520b19",
   "metadata": {},
   "source": [
    "Tensors are specialized data structures similar to arrays and matrices. Use tensors to encode inputs and outputs of a model and the model's parameters. "
   ]
  },
  {
   "cell_type": "markdown",
   "id": "35fd9eda",
   "metadata": {},
   "source": [
    "Can run on GPUs or other hardware accelerators, share underlying memory with NumPy. Can optimize for automatic differentiation."
   ]
  },
  {
   "cell_type": "code",
   "execution_count": 12,
   "id": "041fc833",
   "metadata": {},
   "outputs": [],
   "source": [
    "import torch\n",
    "import numpy as np"
   ]
  },
  {
   "cell_type": "code",
   "execution_count": 13,
   "id": "0b2a413d",
   "metadata": {},
   "outputs": [],
   "source": [
    "#initializing tensor\n",
    "data = [[1,2],[3,4]]\n",
    "x_data = torch.tensor(data)"
   ]
  },
  {
   "cell_type": "code",
   "execution_count": 14,
   "id": "4da87f79",
   "metadata": {},
   "outputs": [],
   "source": [
    "#can be initialized from numpy arrays\n",
    "np_array = np.array(data)\n",
    "x_np = torch.from_numpy(np_array)"
   ]
  },
  {
   "cell_type": "code",
   "execution_count": 15,
   "id": "6773ba95",
   "metadata": {},
   "outputs": [
    {
     "name": "stdout",
     "output_type": "stream",
     "text": [
      "Ones Tensor: \n",
      " tensor([[1, 1],\n",
      "        [1, 1]]) \n",
      "\n",
      "Random Tensor: \n",
      " tensor([[0.5021, 0.9237],\n",
      "        [0.1045, 0.4445]]) \n",
      "\n"
     ]
    }
   ],
   "source": [
    "#retains properties of argument tensor unless overridden\n",
    "x_ones = torch.ones_like(x_data)\n",
    "print(f\"Ones Tensor: \\n {x_ones} \\n\")\n",
    "\n",
    "x_rand = torch.rand_like(x_data, dtype=torch.float)\n",
    "print(f\"Random Tensor: \\n {x_rand} \\n\")\n",
    "\n"
   ]
  },
  {
   "cell_type": "code",
   "execution_count": 16,
   "id": "75e28e7c",
   "metadata": {},
   "outputs": [
    {
     "name": "stdout",
     "output_type": "stream",
     "text": [
      "Random Tensor: \n",
      " tensor([[0.6833, 0.1776, 0.1089],\n",
      "        [0.5026, 0.8643, 0.4436]]) \n",
      "\n",
      "Ones Tensor: \n",
      " tensor([[1., 1., 1.],\n",
      "        [1., 1., 1.]]) \n",
      "\n",
      "Zeros Tensor: \n",
      " tensor([[0., 0., 0.],\n",
      "        [0., 0., 0.]]) \n",
      "\n"
     ]
    }
   ],
   "source": [
    "#Shape is a tuple of tensor dimensions, dimensionality of the output tensor\n",
    "shape = (2,3,)\n",
    "rand_tensor = torch.rand(shape)\n",
    "ones_tensor = torch.ones(shape)\n",
    "zeros_tensor = torch.zeros(shape)\n",
    "\n",
    "print(f\"Random Tensor: \\n {rand_tensor} \\n\")\n",
    "print(f\"Ones Tensor: \\n {ones_tensor} \\n\")\n",
    "print(f\"Zeros Tensor: \\n {zeros_tensor} \\n\")\n"
   ]
  },
  {
   "cell_type": "code",
   "execution_count": 17,
   "id": "37f255f4",
   "metadata": {},
   "outputs": [
    {
     "name": "stdout",
     "output_type": "stream",
     "text": [
      "Shape of tensor: torch.Size([3, 4])\n",
      "Datatype of tensor: torch.float32\n",
      "Device tensor is stored on: cpu\n"
     ]
    }
   ],
   "source": [
    "#attributes: shape, datatype, and device they are stored\n",
    "tensor = torch.rand(3,4)\n",
    "print(f\"Shape of tensor: {tensor.shape}\")\n",
    "print(f\"Datatype of tensor: {tensor.dtype}\")\n",
    "print(f\"Device tensor is stored on: {tensor.device}\")"
   ]
  },
  {
   "cell_type": "code",
   "execution_count": 18,
   "id": "8acfd1cf",
   "metadata": {},
   "outputs": [
    {
     "name": "stdout",
     "output_type": "stream",
     "text": [
      "First row: tensor([1., 1., 1., 1.])\n",
      "First column: tensor([1., 1., 1., 1.])\n",
      "Last column: tensor([1., 1., 1., 1.])\n",
      "tensor([[1., 0., 1., 1.],\n",
      "        [1., 0., 1., 1.],\n",
      "        [1., 0., 1., 1.],\n",
      "        [1., 0., 1., 1.]])\n"
     ]
    }
   ],
   "source": [
    "#standard numpy like:\n",
    "tensor = torch.ones(4,4)\n",
    "print(f\"First row: {tensor[0]}\")\n",
    "print(f\"First column: {tensor[:,0]}\")\n",
    "print(f\"Last column: {tensor[:,-1]}\")\n",
    "tensor[:,1]=0\n",
    "print(tensor)"
   ]
  },
  {
   "cell_type": "code",
   "execution_count": 19,
   "id": "3ee00ff3",
   "metadata": {},
   "outputs": [
    {
     "name": "stdout",
     "output_type": "stream",
     "text": [
      "tensor([[1., 0., 1., 1., 1., 0., 1., 1., 1., 0., 1., 1.],\n",
      "        [1., 0., 1., 1., 1., 0., 1., 1., 1., 0., 1., 1.],\n",
      "        [1., 0., 1., 1., 1., 0., 1., 1., 1., 0., 1., 1.],\n",
      "        [1., 0., 1., 1., 1., 0., 1., 1., 1., 0., 1., 1.]])\n"
     ]
    }
   ],
   "source": [
    "#Joining tensors through cat\n",
    "t1 = torch.cat([tensor, tensor, tensor], dim=1)\n",
    "print(t1)"
   ]
  },
  {
   "cell_type": "code",
   "execution_count": 20,
   "id": "43869317",
   "metadata": {},
   "outputs": [
    {
     "name": "stdout",
     "output_type": "stream",
     "text": [
      "tensor([[3., 3., 3., 3.],\n",
      "        [3., 3., 3., 3.],\n",
      "        [3., 3., 3., 3.],\n",
      "        [3., 3., 3., 3.]])\n"
     ]
    },
    {
     "data": {
      "text/plain": [
       "tensor([[1., 0., 1., 1.],\n",
       "        [1., 0., 1., 1.],\n",
       "        [1., 0., 1., 1.],\n",
       "        [1., 0., 1., 1.]])"
      ]
     },
     "execution_count": 20,
     "metadata": {},
     "output_type": "execute_result"
    }
   ],
   "source": [
    "#arithmetic operations\n",
    "#matrix multiplication\n",
    "y1 = tensor @ tensor.T\n",
    "print(y1)\n",
    "y2 = tensor.matmul(tensor.T)\n",
    "\n",
    "y3 = torch.rand_like(y1)\n",
    "torch.matmul(tensor, tensor.T, out=y3)\n",
    "\n",
    "#computes element-wise product\n",
    "z1 = tensor * tensor\n",
    "z2 = tensor.mul(tensor)\n",
    "z3 = torch.rand_like(tensor)\n",
    "torch.mul(tensor, tensor, out=z3)"
   ]
  },
  {
   "cell_type": "code",
   "execution_count": 21,
   "id": "23f167fe",
   "metadata": {},
   "outputs": [
    {
     "name": "stdout",
     "output_type": "stream",
     "text": [
      "tensor(12.)\n",
      "12.0 <class 'float'>\n"
     ]
    }
   ],
   "source": [
    "#Single element tensors: aggregating all values of a tensor into one value\n",
    "agg = tensor.sum()\n",
    "print(agg)\n",
    "agg_item = agg.item()\n",
    "print(agg_item, type(agg_item))"
   ]
  },
  {
   "cell_type": "code",
   "execution_count": 22,
   "id": "315dd2ae",
   "metadata": {},
   "outputs": [
    {
     "name": "stdout",
     "output_type": "stream",
     "text": [
      "tensor([[1., 0., 1., 1.],\n",
      "        [1., 0., 1., 1.],\n",
      "        [1., 0., 1., 1.],\n",
      "        [1., 0., 1., 1.]]) \n",
      "\n",
      "tensor([[6., 5., 6., 6.],\n",
      "        [6., 5., 6., 6.],\n",
      "        [6., 5., 6., 6.],\n",
      "        [6., 5., 6., 6.]])\n"
     ]
    }
   ],
   "source": [
    "#in-place operand\n",
    "print(f\"{tensor} \\n\")\n",
    "tensor.add_(5)\n",
    "print(tensor)"
   ]
  },
  {
   "cell_type": "code",
   "execution_count": 23,
   "id": "36cd7a04",
   "metadata": {},
   "outputs": [
    {
     "name": "stdout",
     "output_type": "stream",
     "text": [
      "t: tensor([1., 1., 1., 1., 1.])\n",
      "n: [1. 1. 1. 1. 1.]\n"
     ]
    }
   ],
   "source": [
    "#tensor to numpy\n",
    "t = torch.ones(5)\n",
    "print(f\"t: {t}\")\n",
    "n = t.numpy()\n",
    "print(f\"n: {n}\")"
   ]
  },
  {
   "cell_type": "code",
   "execution_count": 24,
   "id": "e7dcc911",
   "metadata": {},
   "outputs": [
    {
     "name": "stdout",
     "output_type": "stream",
     "text": [
      "t: tensor([2., 2., 2., 2., 2.])\n",
      "n: [2. 2. 2. 2. 2.]\n"
     ]
    }
   ],
   "source": [
    "#changes reflect in numpy array\n",
    "t.add_(1)\n",
    "print(f\"t: {t}\")\n",
    "print(f\"n: {n}\")"
   ]
  },
  {
   "cell_type": "code",
   "execution_count": 25,
   "id": "098a0340",
   "metadata": {},
   "outputs": [
    {
     "name": "stdout",
     "output_type": "stream",
     "text": [
      "n: [1. 1. 1. 1. 1.]\n",
      "t: tensor([1., 1., 1., 1., 1.], dtype=torch.float64)\n"
     ]
    }
   ],
   "source": [
    "#numpy to tensor\n",
    "n = np.ones(5)\n",
    "t = torch.from_numpy(n)\n",
    "print(f\"n: {n}\")\n",
    "print(f\"t: {t}\")"
   ]
  },
  {
   "cell_type": "code",
   "execution_count": 26,
   "id": "f86f22e1",
   "metadata": {},
   "outputs": [
    {
     "name": "stdout",
     "output_type": "stream",
     "text": [
      "n: [2. 2. 2. 2. 2.]\n",
      "t: tensor([2., 2., 2., 2., 2.], dtype=torch.float64)\n"
     ]
    }
   ],
   "source": [
    "np.add(n, 1, out=n)\n",
    "print(f\"n: {n}\")\n",
    "print(f\"t: {t}\")"
   ]
  },
  {
   "cell_type": "markdown",
   "id": "0d0b5d1c",
   "metadata": {},
   "source": [
    "Data samples messy, want our dataset decoupled from our model training code. DataLoader (wraps an iterable around dataset for easy access to samples) and Dataset (stores samples and corresponding labels)."
   ]
  },
  {
   "cell_type": "code",
   "execution_count": 27,
   "id": "31f33305",
   "metadata": {},
   "outputs": [],
   "source": [
    "import torch\n",
    "from torch.utils.data import Dataset\n",
    "from torchvision import datasets\n",
    "from torchvision.transforms import ToTensor\n",
    "import matplotlib.pyplot as plt\n",
    "\n",
    "training_data = datasets.FashionMNIST(\n",
    "    root=\"data\", #path where data is stored\n",
    "    train = True, #training or test dataset\n",
    "    download = True, #downloads data from internet if not available at root\n",
    "    transform = ToTensor() #feature and label transformations\n",
    ")\n",
    "\n",
    "test_data = datasets.FashionMNIST(\n",
    "    root=\"data\",\n",
    "    train=False,\n",
    "    download=True,\n",
    "    transform = ToTensor()\n",
    ")"
   ]
  },
  {
   "cell_type": "code",
   "execution_count": 28,
   "id": "945726e8",
   "metadata": {},
   "outputs": [
    {
     "data": {
      "image/png": "[encoded data removed]",
      "text/plain": [
       "<Figure size 576x576 with 9 Axes>"
      ]
     },
     "metadata": {
      "needs_background": "light"
     },
     "output_type": "display_data"
    }
   ],
   "source": [
    "#Iterating and Visualizing Dataset\n",
    "labels_map = {\n",
    "    0: \"T-shirt/top\",\n",
    "    1: \"Trouser\",\n",
    "    2: \"Pullover\",\n",
    "    3: \"Dress\",\n",
    "    4: \"Coat\",\n",
    "    5: \"Sandal\",\n",
    "    6: \"Shirt\",\n",
    "    7: \"Sneaker\",\n",
    "    8: \"Bag\",\n",
    "    9: \"Ankle boot\",\n",
    "}\n",
    "figure = plt.figure(figsize=(8, 8))\n",
    "cols, rows = 3, 3\n",
    "for i in range(1, cols * rows + 1):\n",
    "    sample_idx = torch.randint(len(training_data), size=(1,)).item()\n",
    "    img, label = training_data[sample_idx]\n",
    "    figure.add_subplot(rows, cols, i)\n",
    "    plt.title(labels_map[label])\n",
    "    plt.axis(\"off\")\n",
    "    plt.imshow(img.squeeze(), cmap=\"gray\")\n",
    "plt.show()"
   ]
  },
  {
   "cell_type": "markdown",
   "id": "9cdce1c2",
   "metadata": {},
   "source": [
    "Custom dataset implements init, len and, getitem. FashionMNIST images are stored in directory img_dir and labels are stored separately in a CSV file annotations_file"
   ]
  },
  {
   "cell_type": "code",
   "execution_count": 29,
   "id": "2c09598e",
   "metadata": {},
   "outputs": [],
   "source": [
    "import os\n",
    "import pandas as pd\n",
    "from torchvision.io import decode_image\n",
    "\n",
    "class CustomImageDataset(Dataset):\n",
    "    #instantiating the dataset object\n",
    "    #\n",
    "    def __init__(self, annotations_file, img_dir, transform=None, target_transform=None):\n",
    "        self.img_labels = pd.read_csv(annotations_file)\n",
    "        self.img_dir = img_dir\n",
    "        self.transform = transform\n",
    "        self.target_transform = target_transform\n",
    "    \n",
    "    #returns number of samples in our dataset\n",
    "    def __len__(self):\n",
    "        return len(self.img_labels)\n",
    "    \n",
    "    #loads and returns a sample from a dataset at given index\n",
    "    #identifies location on disk, converts to tensor (decode image), and retrieves the label\n",
    "    #Calls transform funcs and returns tensor image and corresponding label\n",
    "    def __getitem__(self, idx):\n",
    "        img_path = os.path.join(self.img_dir, self.img_labels.iloc[idx, 0])\n",
    "        image = decode_image(img_path)\n",
    "        label = self.img_labels.iloc[idx, 1]\n",
    "        if self.transform:\n",
    "            image = self.transform(image)\n",
    "        if self.target_transform:\n",
    "            label = self.target_transform(label)\n",
    "        return image, label"
   ]
  },
  {
   "cell_type": "markdown",
   "id": "48b23744",
   "metadata": {},
   "source": [
    "Preparing your data for training with DataLoaders.\n",
    "Dataloader is an iterable, can do minibatches, and reshuffles the data at every epoch to reduce model overfitting and use multiprocessing"
   ]
  },
  {
   "cell_type": "code",
   "execution_count": 30,
   "id": "fda5f9f5",
   "metadata": {},
   "outputs": [],
   "source": [
    "from torch.utils.data import DataLoader\n",
    "train_dataloader = DataLoader(training_data, batch_size=64, shuffle=True)\n",
    "test_dataloader = DataLoader(test_data, batch_size=64, shuffle=True)"
   ]
  },
  {
   "cell_type": "markdown",
   "id": "08eb96a8",
   "metadata": {},
   "source": [
    "Can iterate through dataset as needed. Each iteration returns a batch of train_features and train_labels (containing batch_size 64).\n",
    "After we iterate over all batches the data is shuffled"
   ]
  },
  {
   "cell_type": "code",
   "execution_count": 31,
   "id": "922c0edf",
   "metadata": {},
   "outputs": [
    {
     "name": "stdout",
     "output_type": "stream",
     "text": [
      "Featrue batch shape: torch.Size([64, 1, 28, 28])\n",
      "Labels batch shape: torch.Size([64])\n"
     ]
    },
    {
     "data": {
      "image/png": "[encoded data removed]",
      "text/plain": [
       "<Figure size 432x288 with 1 Axes>"
      ]
     },
     "metadata": {
      "needs_background": "light"
     },
     "output_type": "display_data"
    },
    {
     "name": "stdout",
     "output_type": "stream",
     "text": [
      "Label: 0\n"
     ]
    }
   ],
   "source": [
    "#Display image and label\n",
    "train_features, train_labels = next(iter(train_dataloader))\n",
    "print(f\"Featrue batch shape: {train_features.size()}\")\n",
    "print(f\"Labels batch shape: {train_labels.size()}\")\n",
    "img = train_features[0].squeeze()\n",
    "label = train_labels[0]\n",
    "plt.imshow(img, cmap=\"gray\")\n",
    "plt.show()\n",
    "print(f\"Label: {label}\")"
   ]
  },
  {
   "cell_type": "markdown",
   "id": "d8c66602",
   "metadata": {},
   "source": [
    "Transforms perform some data manipulation.\n",
    "Transform modifies the features, target_transform modifies the labels\n",
    "Features are in PIL image format, labels are integers\n",
    "Features need to be normalized tensors and labels need to be one-hot encoded tensors"
   ]
  },
  {
   "cell_type": "code",
   "execution_count": 32,
   "id": "2038b131",
   "metadata": {},
   "outputs": [],
   "source": [
    "import torch\n",
    "from torchvision import datasets\n",
    "from torchvision.transforms import ToTensor, Lambda\n",
    "\n",
    "ds = datasets.FashionMNIST(\n",
    "    root=\"data\",\n",
    "    train=True,\n",
    "    download=True,\n",
    "    transform=ToTensor(),\n",
    "    target_transform=Lambda(lambda y: torch.zeros(10, dtype=torch.float).scatter_(0, torch.tensor(y), value=1))\n",
    ")"
   ]
  },
  {
   "cell_type": "markdown",
   "id": "713745d4",
   "metadata": {},
   "source": [
    "ToTensor converts PIL image or NumPy array to float tensor and scales image's pixel values in range [0,1].\n",
    "Lambda transforms apply user-defined lambda function. \n",
    "Function turns the integer to a one hot encoded tensor (zero tensor of size 10 -- # of labels, then assigns a value of 1 on the index as given bu label y"
   ]
  },
  {
   "cell_type": "markdown",
   "id": "696c91dd",
   "metadata": {},
   "source": [
    "Building the Neural Network: layers/modules that perform operations on data. Torch.nn provides building blocks to build your own neural network. "
   ]
  },
  {
   "cell_type": "code",
   "execution_count": 33,
   "id": "4906963f",
   "metadata": {},
   "outputs": [],
   "source": [
    "import os\n",
    "import torch\n",
    "from torch import nn\n",
    "from torch.utils.data import DataLoader\n",
    "from torchvision import datasets, transforms"
   ]
  },
  {
   "cell_type": "code",
   "execution_count": 34,
   "id": "2e6d4ab2",
   "metadata": {},
   "outputs": [
    {
     "name": "stdout",
     "output_type": "stream",
     "text": [
      "Using cpu device\n"
     ]
    }
   ],
   "source": [
    "device = \"cpu\"\n",
    "print(f\"Using {device} device\")"
   ]
  },
  {
   "cell_type": "markdown",
   "id": "40bb22f8",
   "metadata": {},
   "source": [
    "Subclass nn.Modue, initialize neural network, implements operations on input data in the forward method"
   ]
  },
  {
   "cell_type": "code",
   "execution_count": 35,
   "id": "8e3cfb12",
   "metadata": {},
   "outputs": [],
   "source": [
    "class NeuralNetwork(nn.Module):\n",
    "    def __init__(self):\n",
    "        super().__init__()\n",
    "        self.flatten = nn.Flatten()\n",
    "        self.linear_relu_stack = nn.Sequential(\n",
    "            nn.Linear(28*28, 512),\n",
    "            nn.ReLU(),\n",
    "            nn.Linear(512,512),\n",
    "            nn.ReLU(),\n",
    "            nn.Linear(512,10),\n",
    "        )\n",
    "    def forward(self, x):\n",
    "        x = self.flatten(x)\n",
    "        logits = self.linear_relu_stack(x)\n",
    "        return logits"
   ]
  },
  {
   "cell_type": "code",
   "execution_count": 36,
   "id": "9d7b7500",
   "metadata": {},
   "outputs": [
    {
     "name": "stdout",
     "output_type": "stream",
     "text": [
      "NeuralNetwork(\n",
      "  (flatten): Flatten(start_dim=1, end_dim=-1)\n",
      "  (linear_relu_stack): Sequential(\n",
      "    (0): Linear(in_features=784, out_features=512, bias=True)\n",
      "    (1): ReLU()\n",
      "    (2): Linear(in_features=512, out_features=512, bias=True)\n",
      "    (3): ReLU()\n",
      "    (4): Linear(in_features=512, out_features=10, bias=True)\n",
      "  )\n",
      ")\n"
     ]
    }
   ],
   "source": [
    "model = NeuralNetwork().to(device)\n",
    "print(model)"
   ]
  },
  {
   "cell_type": "markdown",
   "id": "5cfb71c7",
   "metadata": {},
   "source": [
    "Pass the input data, executes model's forward along with background operations. Returns 2-dim tensor of 10 raw predicted values for each class and individual values of each output. nn.Softmax gets the prediction probabilities"
   ]
  },
  {
   "cell_type": "code",
   "execution_count": 37,
   "id": "dcf368e8",
   "metadata": {},
   "outputs": [
    {
     "name": "stdout",
     "output_type": "stream",
     "text": [
      "Predicted class: tensor([0])\n"
     ]
    }
   ],
   "source": [
    "X = torch.rand(1, 28, 28, device=device)\n",
    "logits = model(X)\n",
    "pred_probab = nn.Softmax(dim=1)(logits)\n",
    "# print(pred_probab)\n",
    "y_pred = pred_probab.argmax(1)\n",
    "print(f\"Predicted class: {y_pred}\")"
   ]
  },
  {
   "cell_type": "markdown",
   "id": "07785a81",
   "metadata": {},
   "source": [
    "nn.flatten layer converts each 2D 28x28 image to a contiguous array of 784 pixel values"
   ]
  },
  {
   "cell_type": "code",
   "execution_count": 38,
   "id": "ee2b0710",
   "metadata": {},
   "outputs": [
    {
     "name": "stdout",
     "output_type": "stream",
     "text": [
      "torch.Size([3, 28, 28])\n",
      "torch.Size([3, 784])\n"
     ]
    }
   ],
   "source": [
    "input_image = torch.rand(3,28,28)\n",
    "print(input_image.size())\n",
    "flatten = nn.Flatten()\n",
    "flat_image = flatten(input_image)\n",
    "print(flat_image.size())"
   ]
  },
  {
   "cell_type": "code",
   "execution_count": 39,
   "id": "333a5409",
   "metadata": {},
   "outputs": [
    {
     "name": "stdout",
     "output_type": "stream",
     "text": [
      "tensor([[[0.1499, 0.5128, 0.3023,  ..., 0.7438, 0.5144, 0.0647],\n",
      "         [0.5940, 0.9664, 0.5005,  ..., 0.4283, 0.0769, 0.9604],\n",
      "         [0.4170, 0.2685, 0.9758,  ..., 0.3078, 0.4443, 0.8328],\n",
      "         ...,\n",
      "         [0.9465, 0.8249, 0.6175,  ..., 0.8987, 0.8608, 0.1648],\n",
      "         [0.2552, 0.9921, 0.6825,  ..., 0.2603, 0.0881, 0.9165],\n",
      "         [0.0665, 0.3422, 0.7365,  ..., 0.9755, 0.1568, 0.5573]],\n",
      "\n",
      "        [[0.5317, 0.6538, 0.7180,  ..., 0.3585, 0.6543, 0.3792],\n",
      "         [0.9606, 0.6672, 0.4040,  ..., 0.3308, 0.0029, 0.7779],\n",
      "         [0.6311, 0.1739, 0.1552,  ..., 0.0173, 0.9917, 0.9019],\n",
      "         ...,\n",
      "         [0.8427, 0.6045, 0.4019,  ..., 0.4433, 0.2986, 0.9957],\n",
      "         [0.3963, 0.3576, 0.0623,  ..., 0.2409, 0.5728, 0.7739],\n",
      "         [0.1775, 0.9295, 0.2069,  ..., 0.2185, 0.1904, 0.5429]],\n",
      "\n",
      "        [[0.3921, 0.8695, 0.6725,  ..., 0.1988, 0.6637, 0.9307],\n",
      "         [0.5682, 0.0694, 0.8414,  ..., 0.1541, 0.1740, 0.1050],\n",
      "         [0.4729, 0.0505, 0.0105,  ..., 0.9993, 0.9126, 0.2568],\n",
      "         ...,\n",
      "         [0.5171, 0.1620, 0.9856,  ..., 0.3122, 0.6913, 0.9954],\n",
      "         [0.2255, 0.5540, 0.6325,  ..., 0.0610, 0.2620, 0.2587],\n",
      "         [0.3478, 0.0207, 0.5743,  ..., 0.9744, 0.9930, 0.0824]]])\n",
      "tensor([[0.1499, 0.5128, 0.3023,  ..., 0.9755, 0.1568, 0.5573],\n",
      "        [0.5317, 0.6538, 0.7180,  ..., 0.2185, 0.1904, 0.5429],\n",
      "        [0.3921, 0.8695, 0.6725,  ..., 0.9744, 0.9930, 0.0824]])\n"
     ]
    }
   ],
   "source": [
    "print(input_image)\n",
    "print(flat_image)"
   ]
  },
  {
   "cell_type": "markdown",
   "id": "f35ff712",
   "metadata": {},
   "source": [
    "linear layer applies a linear transformation on input using stored weights and biases"
   ]
  },
  {
   "cell_type": "code",
   "execution_count": 40,
   "id": "aab8a846",
   "metadata": {},
   "outputs": [
    {
     "name": "stdout",
     "output_type": "stream",
     "text": [
      "torch.Size([3, 20])\n"
     ]
    }
   ],
   "source": [
    "layer1 = nn.Linear(in_features=28*28, out_features=20)\n",
    "hidden1 = layer1(flat_image)\n",
    "print(hidden1.size())"
   ]
  },
  {
   "cell_type": "markdown",
   "id": "0d91849b",
   "metadata": {},
   "source": [
    "Non-linear activations create complex mappings between model's inputs and outputs. Introduce nonlinearity"
   ]
  },
  {
   "cell_type": "code",
   "execution_count": 41,
   "id": "f0a147cf",
   "metadata": {},
   "outputs": [
    {
     "name": "stdout",
     "output_type": "stream",
     "text": [
      "Before ReLU: tensor([[-0.2357,  0.4367, -0.4475,  0.1966, -0.0390, -0.0804, -0.0255, -0.2463,\n",
      "          0.1718, -0.1379, -0.9255, -0.3986, -0.0055,  0.3634, -0.0408, -0.3125,\n",
      "         -0.0836,  0.2721,  0.1517, -0.4176],\n",
      "        [-0.1885,  0.4156, -0.3293,  0.0895,  0.1444, -0.1808,  0.0825, -0.2913,\n",
      "         -0.0957,  0.0867, -0.7684, -0.5227,  0.2723,  0.2543,  0.0174, -0.0996,\n",
      "         -0.0882,  0.2158,  0.0828, -0.6404],\n",
      "        [-0.4000,  0.3350, -0.5802, -0.0096,  0.1796, -0.0468, -0.2470, -0.4162,\n",
      "          0.1221, -0.1807, -1.1182, -0.2311, -0.0764,  0.4609,  0.0201, -0.0798,\n",
      "         -0.0342,  0.6605,  0.1112, -0.5658]], grad_fn=<AddmmBackward0>)\n",
      "\n",
      "\n",
      "After ReLU: tensor([[0.0000, 0.4367, 0.0000, 0.1966, 0.0000, 0.0000, 0.0000, 0.0000, 0.1718,\n",
      "         0.0000, 0.0000, 0.0000, 0.0000, 0.3634, 0.0000, 0.0000, 0.0000, 0.2721,\n",
      "         0.1517, 0.0000],\n",
      "        [0.0000, 0.4156, 0.0000, 0.0895, 0.1444, 0.0000, 0.0825, 0.0000, 0.0000,\n",
      "         0.0867, 0.0000, 0.0000, 0.2723, 0.2543, 0.0174, 0.0000, 0.0000, 0.2158,\n",
      "         0.0828, 0.0000],\n",
      "        [0.0000, 0.3350, 0.0000, 0.0000, 0.1796, 0.0000, 0.0000, 0.0000, 0.1221,\n",
      "         0.0000, 0.0000, 0.0000, 0.0000, 0.4609, 0.0201, 0.0000, 0.0000, 0.6605,\n",
      "         0.1112, 0.0000]], grad_fn=<ReluBackward0>)\n"
     ]
    }
   ],
   "source": [
    "print(f\"Before ReLU: {hidden1}\\n\\n\")\n",
    "hidden1 = nn.ReLU()(hidden1)\n",
    "print(f\"After ReLU: {hidden1}\")"
   ]
  },
  {
   "cell_type": "markdown",
   "id": "d430a116",
   "metadata": {},
   "source": [
    "nn.Sequential os ordered container of modules, data passed through all modules in same order as defined (put together a quick network like seq_modules)"
   ]
  },
  {
   "cell_type": "code",
   "execution_count": 42,
   "id": "85731ec3",
   "metadata": {},
   "outputs": [
    {
     "name": "stdout",
     "output_type": "stream",
     "text": [
      "tensor([[-0.3472, -0.1560,  0.0596, -0.2420,  0.0865, -0.3657, -0.0122, -0.1738,\n",
      "          0.0249, -0.2875],\n",
      "        [-0.1635, -0.1849,  0.0839, -0.1666,  0.1703, -0.2322, -0.0559, -0.1043,\n",
      "         -0.0092, -0.1570],\n",
      "        [-0.1896, -0.1388,  0.0671, -0.0317,  0.2700, -0.1053, -0.0228, -0.2569,\n",
      "          0.0957, -0.3069]], grad_fn=<AddmmBackward0>)\n"
     ]
    }
   ],
   "source": [
    "seq_modules = nn.Sequential(\n",
    "    flatten,\n",
    "    layer1,\n",
    "    nn.ReLU(),\n",
    "    nn.Linear(20,10)\n",
    ")\n",
    "input_image = torch.rand(3,28,28)\n",
    "logits = seq_modules(input_image)\n",
    "print(logits)"
   ]
  },
  {
   "cell_type": "markdown",
   "id": "13ec9d62",
   "metadata": {},
   "source": [
    "Logits (raw values) passed to the nn.Softmax module, scaled to values [0,1]. represents the model's predicted probabilities for each class. Dim indicates which the values must sum to 1"
   ]
  },
  {
   "cell_type": "code",
   "execution_count": 43,
   "id": "026d4a55",
   "metadata": {},
   "outputs": [
    {
     "name": "stdout",
     "output_type": "stream",
     "text": [
      "tensor([[0.0803, 0.0973, 0.1207, 0.0892, 0.1240, 0.0789, 0.1123, 0.0956, 0.1165,\n",
      "         0.0853],\n",
      "        [0.0915, 0.0895, 0.1171, 0.0912, 0.1277, 0.0854, 0.1018, 0.0970, 0.1067,\n",
      "         0.0921],\n",
      "        [0.0868, 0.0913, 0.1122, 0.1016, 0.1374, 0.0944, 0.1025, 0.0811, 0.1154,\n",
      "         0.0772]], grad_fn=<SoftmaxBackward0>)\n"
     ]
    }
   ],
   "source": [
    "softmax = nn.Softmax(dim=1)\n",
    "pred_probab = softmax(logits)\n",
    "print(pred_probab)"
   ]
  },
  {
   "cell_type": "code",
   "execution_count": 44,
   "id": "390a6d10",
   "metadata": {},
   "outputs": [
    {
     "data": {
      "text/plain": [
       "1.0"
      ]
     },
     "execution_count": 44,
     "metadata": {},
     "output_type": "execute_result"
    }
   ],
   "source": [
    "np.sum([0.0922, 0.0911, 0.1162, 0.0733, 0.1132, 0.1111, 0.1089, 0.0969, 0.0913,\n",
    "         0.1058])"
   ]
  },
  {
   "cell_type": "markdown",
   "id": "d3f1f0a0",
   "metadata": {},
   "source": [
    "Many layers inside the neural network are parametrized (have associated weights and biases optimized during training)"
   ]
  },
  {
   "cell_type": "code",
   "execution_count": 45,
   "id": "c5f5f6e0",
   "metadata": {},
   "outputs": [
    {
     "name": "stdout",
     "output_type": "stream",
     "text": [
      "Model structure: NeuralNetwork(\n",
      "  (flatten): Flatten(start_dim=1, end_dim=-1)\n",
      "  (linear_relu_stack): Sequential(\n",
      "    (0): Linear(in_features=784, out_features=512, bias=True)\n",
      "    (1): ReLU()\n",
      "    (2): Linear(in_features=512, out_features=512, bias=True)\n",
      "    (3): ReLU()\n",
      "    (4): Linear(in_features=512, out_features=10, bias=True)\n",
      "  )\n",
      ")\n",
      "\n",
      "\n",
      "Layers: linear_relu_stack.0.weight | Size: torch.Size([512, 784]) | Values: tensor([[ 0.0227, -0.0093,  0.0293,  ..., -0.0053,  0.0130, -0.0305],\n",
      "        [ 0.0189, -0.0161, -0.0065,  ..., -0.0184,  0.0294,  0.0051]],\n",
      "       grad_fn=<SliceBackward0>) \n",
      "\n",
      "Layers: linear_relu_stack.0.bias | Size: torch.Size([512]) | Values: tensor([-0.0335, -0.0162], grad_fn=<SliceBackward0>) \n",
      "\n",
      "Layers: linear_relu_stack.2.weight | Size: torch.Size([512, 512]) | Values: tensor([[ 0.0324,  0.0430, -0.0282,  ...,  0.0419,  0.0081,  0.0115],\n",
      "        [-0.0016, -0.0421,  0.0084,  ...,  0.0375,  0.0352, -0.0406]],\n",
      "       grad_fn=<SliceBackward0>) \n",
      "\n",
      "Layers: linear_relu_stack.2.bias | Size: torch.Size([512]) | Values: tensor([ 0.0415, -0.0242], grad_fn=<SliceBackward0>) \n",
      "\n",
      "Layers: linear_relu_stack.4.weight | Size: torch.Size([10, 512]) | Values: tensor([[ 0.0256,  0.0267, -0.0396,  ..., -0.0038,  0.0424,  0.0014],\n",
      "        [ 0.0184, -0.0433,  0.0155,  ...,  0.0365,  0.0273, -0.0368]],\n",
      "       grad_fn=<SliceBackward0>) \n",
      "\n",
      "Layers: linear_relu_stack.4.bias | Size: torch.Size([10]) | Values: tensor([-0.0102, -0.0407], grad_fn=<SliceBackward0>) \n",
      "\n"
     ]
    }
   ],
   "source": [
    "print(f\"Model structure: {model}\\n\\n\")\n",
    "\n",
    "for name, param in model.named_parameters():\n",
    "    print(f\"Layers: {name} | Size: {param.size()} | Values: {param[:2]} \\n\")"
   ]
  },
  {
   "cell_type": "markdown",
   "id": "ad66124c",
   "metadata": {},
   "source": [
    "Automatic differentiation with torch.autograd. When training neural networks, the most frequently used algorithm is back propagation. parameters (model weights) are adjusted according to the gradient of the loss function wrt a given parameter.\n",
    "Torch.autograd is a built-in differentiation engine, supports automatic computation of gradient for any computational graph."
   ]
  },
  {
   "cell_type": "code",
   "execution_count": 46,
   "id": "892ad73e",
   "metadata": {},
   "outputs": [],
   "source": [
    "import torch\n",
    "x = torch.ones(5)\n",
    "y = torch.zeros(3)\n",
    "w = torch.randn(5, 3, requires_grad=True)\n",
    "b = torch.randn(3, requires_grad=True)\n",
    "z = torch.matmul(x, w)+b\n",
    "loss = torch.nn.functional.binary_cross_entropy_with_logits(z, y)"
   ]
  },
  {
   "cell_type": "markdown",
   "id": "5fb786ca",
   "metadata": {},
   "source": [
    "w anb b are parameters we need to optimize, need to compute the gradients of the loss function wrt those variables (requires_grad property)"
   ]
  },
  {
   "cell_type": "markdown",
   "id": "78289ff8",
   "metadata": {},
   "source": [
    "Function we apply to tensors to construct computational graph (object of class Function). Knows how to compute the function in the forward direction and how to compute its derivative during the backward propagation step (grad_fn)"
   ]
  },
  {
   "cell_type": "code",
   "execution_count": 47,
   "id": "33784203",
   "metadata": {},
   "outputs": [
    {
     "name": "stdout",
     "output_type": "stream",
     "text": [
      "Gradient function for z = <AddBackward0 object at 0x7f9d61f0f5e0>\n",
      "Gradient function for loss = <BinaryCrossEntropyWithLogitsBackward0 object at 0x7f9d61f0f520>\n"
     ]
    }
   ],
   "source": [
    "print(f\"Gradient function for z = {z.grad_fn}\")\n",
    "print(f\"Gradient function for loss = {loss.grad_fn}\")"
   ]
  },
  {
   "cell_type": "markdown",
   "id": "afdec23e",
   "metadata": {},
   "source": [
    "Computing gradients: optimize weights of parameters in the neural network, compute derivatives of our loss function wrt parameters (w and b)"
   ]
  },
  {
   "cell_type": "code",
   "execution_count": 48,
   "id": "d87842fb",
   "metadata": {},
   "outputs": [
    {
     "name": "stdout",
     "output_type": "stream",
     "text": [
      "tensor([[0.3149, 0.1706, 0.2649],\n",
      "        [0.3149, 0.1706, 0.2649],\n",
      "        [0.3149, 0.1706, 0.2649],\n",
      "        [0.3149, 0.1706, 0.2649],\n",
      "        [0.3149, 0.1706, 0.2649]])\n",
      "tensor([0.3149, 0.1706, 0.2649])\n"
     ]
    }
   ],
   "source": [
    "loss.backward()\n",
    "print(w.grad)\n",
    "print(b.grad)"
   ]
  },
  {
   "cell_type": "markdown",
   "id": "63326540",
   "metadata": {},
   "source": [
    "Disable Gradient tracking -- all tensors with requires_grad=True track their computational history and support gradient computation. Some cases when we do not need to do that, trained model and want to apply it with input data (only forward computations)"
   ]
  },
  {
   "cell_type": "code",
   "execution_count": 49,
   "id": "29492800",
   "metadata": {},
   "outputs": [
    {
     "name": "stdout",
     "output_type": "stream",
     "text": [
      "True\n",
      "False\n"
     ]
    }
   ],
   "source": [
    "z = torch.matmul(x, w)+b\n",
    "print(z.requires_grad)\n",
    "\n",
    "with torch.no_grad():\n",
    "    z = torch.matmul(x, w)+b\n",
    "print(z.requires_grad)"
   ]
  },
  {
   "cell_type": "code",
   "execution_count": 50,
   "id": "d0106b6d",
   "metadata": {},
   "outputs": [
    {
     "name": "stdout",
     "output_type": "stream",
     "text": [
      "False\n"
     ]
    }
   ],
   "source": [
    "z = torch.matmul(x, w)+b\n",
    "z_det = z.detach()\n",
    "print(z_det.requires_grad)"
   ]
  },
  {
   "cell_type": "markdown",
   "id": "057cf092",
   "metadata": {},
   "source": [
    "Disable gradient tracking to mark some parameters as frozen parameters, speed up computations"
   ]
  },
  {
   "cell_type": "markdown",
   "id": "ba261b16",
   "metadata": {},
   "source": [
    "Autograds keep a record of data (tensors) and all executed operations in directed acyclic graph consisting of Function objects.\n",
    "Automatically compte the gradients using the chain rule."
   ]
  },
  {
   "cell_type": "markdown",
   "id": "49368921",
   "metadata": {},
   "source": [
    "Forward pass: run the requested operation to compute a resulting tensor, maintain the operation's gradient function in DAG\n",
    "Backward pass (.backward()): computes the gradients .grad_fn, accumulates them in the respective tensor's .grad attribute, propagates all the way to the leaf tensors using chaine rule"
   ]
  },
  {
   "cell_type": "markdown",
   "id": "2a8a7949",
   "metadata": {},
   "source": [
    "In some cases when output is a tensor, it allows you to compute a Jacobian product, not the actual gradient"
   ]
  },
  {
   "cell_type": "code",
   "execution_count": 52,
   "id": "45bf48bf",
   "metadata": {},
   "outputs": [
    {
     "name": "stdout",
     "output_type": "stream",
     "text": [
      "tensor([[1., 0., 0., 0., 0.],\n",
      "        [0., 1., 0., 0., 0.],\n",
      "        [0., 0., 1., 0., 0.],\n",
      "        [0., 0., 0., 1., 0.]], requires_grad=True)\n",
      "First call\n",
      "tensor([[4., 2., 2., 2., 2.],\n",
      "        [2., 4., 2., 2., 2.],\n",
      "        [2., 2., 4., 2., 2.],\n",
      "        [2., 2., 2., 4., 2.]])\n",
      "\n",
      "Second call\n",
      "tensor([[8., 4., 4., 4., 4.],\n",
      "        [4., 8., 4., 4., 4.],\n",
      "        [4., 4., 8., 4., 4.],\n",
      "        [4., 4., 4., 8., 4.]])\n",
      "\n",
      "Call after zeroing gradients\n",
      "tensor([[4., 2., 2., 2., 2.],\n",
      "        [2., 4., 2., 2., 2.],\n",
      "        [2., 2., 4., 2., 2.],\n",
      "        [2., 2., 2., 4., 2.]])\n"
     ]
    }
   ],
   "source": [
    "inp = torch.eye(4, 5, requires_grad=True)\n",
    "print(inp)\n",
    "out = (inp+1).pow(2).t()\n",
    "out.backward(torch.ones_like(out), retain_graph=True)\n",
    "print(f\"First call\\n{inp.grad}\")\n",
    "out.backward(torch.ones_like(out), retain_graph=True)\n",
    "print(f\"\\nSecond call\\n{inp.grad}\")\n",
    "inp.grad.zero_()\n",
    "out.backward(torch.ones_like(out), retain_graph=True)\n",
    "print(f\"\\nCall after zeroing gradients\\n{inp.grad}\")"
   ]
  },
  {
   "cell_type": "markdown",
   "id": "3633a51e",
   "metadata": {},
   "source": [
    "Optimizing model parameter: train, validate and test our model by optimizing its parameters on our data"
   ]
  },
  {
   "cell_type": "code",
   "execution_count": 53,
   "id": "2b7c2e08",
   "metadata": {},
   "outputs": [],
   "source": [
    "import torch\n",
    "from torch import nn\n",
    "from torch.utils.data import DataLoader\n",
    "from torchvision import datasets\n",
    "from torchvision.transforms import ToTensor\n",
    "\n",
    "training_data = datasets.FashionMNIST(\n",
    "    root=\"data\",\n",
    "    train=True,\n",
    "    download=True,\n",
    "    transform=ToTensor()\n",
    ")\n",
    "\n",
    "test_data = datasets.FashionMNIST(\n",
    "    root=\"data\",\n",
    "    train=False,\n",
    "    download=True,\n",
    "    transform=ToTensor()\n",
    ")\n",
    "\n",
    "train_dataloader = DataLoader(training_data, batch_size=64)\n",
    "test_dataloader = DataLoader(test_data, batch_size=64)\n",
    "\n",
    "class NeuralNetwork(nn.Module):\n",
    "    def __init__(self):\n",
    "        super().__init__()\n",
    "        self.flatten = nn.Flatten()\n",
    "        self.linear_relu_stack = nn.Sequential(\n",
    "            nn.Linear(28*28, 512),\n",
    "            nn.ReLU(),\n",
    "            nn.Linear(512,512),\n",
    "            nn.ReLU(),\n",
    "            nn.Linear(512,10),\n",
    "        )\n",
    "    def forward(self, x):\n",
    "        x = self.flatten(x)\n",
    "        logits = self.linear_relu_stack(x)\n",
    "        return logits\n",
    "\n",
    "model = NeuralNetwork()\n"
   ]
  },
  {
   "cell_type": "markdown",
   "id": "87ce449a",
   "metadata": {},
   "source": [
    "Number of epochs: number of times to iterate over the dataset,\n",
    "Batch size: number of data samples propagated through the network before the parameters are updated,\n",
    "Learning rate: how much to update models parameters at each batch/epoch, smaller valies yield low learning speed, large values result in unpredictable behavior during training"
   ]
  },
  {
   "cell_type": "code",
   "execution_count": 54,
   "id": "6d282d8b",
   "metadata": {},
   "outputs": [],
   "source": [
    "learning_rate = 1e-3\n",
    "batch_size = 64\n",
    "epochs = 5"
   ]
  },
  {
   "cell_type": "markdown",
   "id": "af964c34",
   "metadata": {},
   "source": [
    "train and optimize our model, each iteration of the optimization loop is called an epoch.\n",
    "Train loop: iterate over the training dataset, try to converge optimal parameters\n",
    "validation/test loop: iterate over the test dataset to check if model performance is improving"
   ]
  },
  {
   "cell_type": "markdown",
   "id": "d8354b85",
   "metadata": {},
   "source": [
    "Loss function: training data, untrained network not likely to give the correct answer, loss function measures the degree of dissimilarity of obtained result to the target value (loss function we want to minimize during training),\n",
    "Make a prediction using the inputs of our given data sample and compare it against the true data label value"
   ]
  },
  {
   "cell_type": "markdown",
   "id": "d064423a",
   "metadata": {},
   "source": [
    "loss_fn = nn.CrossEntropyLoss()"
   ]
  },
  {
   "cell_type": "markdown",
   "id": "7476bd2e",
   "metadata": {},
   "source": [
    "Optimization adjusts model parameters to reduce model error, initialize the optimizer by registering the model's parameters that need to be trained, and passing in the learning rate hyperparameter"
   ]
  },
  {
   "cell_type": "code",
   "execution_count": 55,
   "id": "a7e635f1",
   "metadata": {},
   "outputs": [],
   "source": [
    "optimizer = torch.optim.SGD(model.parameters(), lr=learning_rate)"
   ]
  },
  {
   "cell_type": "code",
   "execution_count": 56,
   "id": "d5680e46",
   "metadata": {},
   "outputs": [],
   "source": [
    "def train_loop(dataloader, model, loss_fn, optimizer):\n",
    "    size = len(dataloader.dataset)\n",
    "    #Set model to training mode – important for batch normalization and dropout layers\n",
    "    #Unnecessary in this situation but added for best practices\n",
    "    model.train()\n",
    "    for batch, (X, y) in enumerate(dataloader):\n",
    "        pred = model(X)\n",
    "        loss = loss_fn(pred, y)\n",
    "        \n",
    "        #Backpropagation\n",
    "        loss.backward()\n",
    "        optimizer.step()\n",
    "        optimizer.zero_grad()\n",
    "        \n",
    "        if batch % 100 == 0:\n",
    "            loss, current = loss.item(), batch * batch_size + len(X)\n",
    "            print(f\"loss: {loss:>7f} [{current:>5d}/{size:>5d}]\")\n",
    "\n",
    "def test_loop(dataloader, model, loss_fn):\n",
    "    #Set the model to evaluation mode – important for batch normalization and dropout layers\n",
    "    #Unnecessary in this situation but added for best practices\n",
    "    model.eval()\n",
    "    size = len(dataloader.dataset)\n",
    "    num_batches = len(dataloader)\n",
    "    test_loss, correct = 0, 0\n",
    "    \n",
    "    # Evaluating the model with torch.no_grad() ensures that no gradients are computed during test mode\n",
    "    # also serves to reduce unnecessary gradient computations and memory usage for tensors with requires_grad=True\n",
    "    with torch.no_grad():\n",
    "        for X, y in dataloader:\n",
    "            pred = model(X)\n",
    "            test_loss += loss_fn(pred, y).item()\n",
    "            correct += (pred.argmax(1) == y).type(torch.float).sum().item()\n",
    "    \n",
    "    test_loss /= num_batches\n",
    "    correct /= size\n",
    "    print(f\"Test Error: \\n Accuracy: {(100*correct):>0.1f}%, Avg loss: {test_loss:>8f}\\n\")\n",
    "    \n",
    "        \n",
    "    "
   ]
  },
  {
   "cell_type": "code",
   "execution_count": 57,
   "id": "e997a675",
   "metadata": {},
   "outputs": [
    {
     "name": "stdout",
     "output_type": "stream",
     "text": [
      "Epoch 1\n",
      "---------------------------\n",
      "loss: 2.295537 [   64/60000]\n",
      "loss: 2.288702 [ 6464/60000]\n",
      "loss: 2.271168 [12864/60000]\n",
      "loss: 2.271898 [19264/60000]\n",
      "loss: 2.243320 [25664/60000]\n",
      "loss: 2.234387 [32064/60000]\n",
      "loss: 2.230345 [38464/60000]\n",
      "loss: 2.195346 [44864/60000]\n",
      "loss: 2.197858 [51264/60000]\n",
      "loss: 2.182171 [57664/60000]\n",
      "Test Error: \n",
      " Accuracy: 49.2%, Avg loss: 2.163123\n",
      "\n",
      "Epoch 2\n",
      "---------------------------\n",
      "loss: 2.170091 [   64/60000]\n",
      "loss: 2.160707 [ 6464/60000]\n",
      "loss: 2.103638 [12864/60000]\n",
      "loss: 2.129666 [19264/60000]\n",
      "loss: 2.064082 [25664/60000]\n",
      "loss: 2.025938 [32064/60000]\n",
      "loss: 2.044333 [38464/60000]\n",
      "loss: 1.959679 [44864/60000]\n",
      "loss: 1.978667 [51264/60000]\n",
      "loss: 1.919747 [57664/60000]\n",
      "Test Error: \n",
      " Accuracy: 54.4%, Avg loss: 1.902406\n",
      "\n",
      "Epoch 3\n",
      "---------------------------\n",
      "loss: 1.934423 [   64/60000]\n",
      "loss: 1.905419 [ 6464/60000]\n",
      "loss: 1.781344 [12864/60000]\n",
      "loss: 1.835125 [19264/60000]\n",
      "loss: 1.715710 [25664/60000]\n",
      "loss: 1.675881 [32064/60000]\n",
      "loss: 1.698755 [38464/60000]\n",
      "loss: 1.583272 [44864/60000]\n",
      "loss: 1.620302 [51264/60000]\n",
      "loss: 1.526225 [57664/60000]\n",
      "Test Error: \n",
      " Accuracy: 59.6%, Avg loss: 1.533610\n",
      "\n",
      "Epoch 4\n",
      "---------------------------\n",
      "loss: 1.598863 [   64/60000]\n",
      "loss: 1.568752 [ 6464/60000]\n",
      "loss: 1.408711 [12864/60000]\n",
      "loss: 1.491341 [19264/60000]\n",
      "loss: 1.366907 [25664/60000]\n",
      "loss: 1.365755 [32064/60000]\n",
      "loss: 1.380355 [38464/60000]\n",
      "loss: 1.285321 [44864/60000]\n",
      "loss: 1.329820 [51264/60000]\n",
      "loss: 1.237957 [57664/60000]\n",
      "Test Error: \n",
      " Accuracy: 62.3%, Avg loss: 1.262033\n",
      "\n",
      "Epoch 5\n",
      "---------------------------\n",
      "loss: 1.336736 [   64/60000]\n",
      "loss: 1.326659 [ 6464/60000]\n",
      "loss: 1.151758 [12864/60000]\n",
      "loss: 1.266347 [19264/60000]\n",
      "loss: 1.138945 [25664/60000]\n",
      "loss: 1.164848 [32064/60000]\n",
      "loss: 1.185290 [38464/60000]\n",
      "loss: 1.102137 [44864/60000]\n",
      "loss: 1.151370 [51264/60000]\n",
      "loss: 1.070822 [57664/60000]\n",
      "Test Error: \n",
      " Accuracy: 63.9%, Avg loss: 1.094845\n",
      "\n",
      "Epoch 6\n",
      "---------------------------\n",
      "loss: 1.163172 [   64/60000]\n",
      "loss: 1.173319 [ 6464/60000]\n",
      "loss: 0.983919 [12864/60000]\n",
      "loss: 1.126862 [19264/60000]\n",
      "loss: 0.999115 [25664/60000]\n",
      "loss: 1.032288 [32064/60000]\n",
      "loss: 1.066178 [38464/60000]\n",
      "loss: 0.986636 [44864/60000]\n",
      "loss: 1.036631 [51264/60000]\n",
      "loss: 0.966960 [57664/60000]\n",
      "Test Error: \n",
      " Accuracy: 65.5%, Avg loss: 0.987515\n",
      "\n",
      "Epoch 7\n",
      "---------------------------\n",
      "loss: 1.043149 [   64/60000]\n",
      "loss: 1.073560 [ 6464/60000]\n",
      "loss: 0.869309 [12864/60000]\n",
      "loss: 1.033298 [19264/60000]\n",
      "loss: 0.911134 [25664/60000]\n",
      "loss: 0.939409 [32064/60000]\n",
      "loss: 0.988946 [38464/60000]\n",
      "loss: 0.911388 [44864/60000]\n",
      "loss: 0.957586 [51264/60000]\n",
      "loss: 0.897536 [57664/60000]\n",
      "Test Error: \n",
      " Accuracy: 66.8%, Avg loss: 0.914143\n",
      "\n",
      "Epoch 8\n",
      "---------------------------\n",
      "loss: 0.955177 [   64/60000]\n",
      "loss: 1.003842 [ 6464/60000]\n",
      "loss: 0.787240 [12864/60000]\n",
      "loss: 0.966023 [19264/60000]\n",
      "loss: 0.852293 [25664/60000]\n",
      "loss: 0.871108 [32064/60000]\n",
      "loss: 0.934802 [38464/60000]\n",
      "loss: 0.860648 [44864/60000]\n",
      "loss: 0.900445 [51264/60000]\n",
      "loss: 0.847158 [57664/60000]\n",
      "Test Error: \n",
      " Accuracy: 68.1%, Avg loss: 0.861051\n",
      "\n",
      "Epoch 9\n",
      "---------------------------\n",
      "loss: 0.887228 [   64/60000]\n",
      "loss: 0.951406 [ 6464/60000]\n",
      "loss: 0.726005 [12864/60000]\n",
      "loss: 0.914945 [19264/60000]\n",
      "loss: 0.810283 [25664/60000]\n",
      "loss: 0.819294 [32064/60000]\n",
      "loss: 0.893926 [38464/60000]\n",
      "loss: 0.825062 [44864/60000]\n",
      "loss: 0.857289 [51264/60000]\n",
      "loss: 0.808587 [57664/60000]\n",
      "Test Error: \n",
      " Accuracy: 69.5%, Avg loss: 0.820658\n",
      "\n",
      "Epoch 10\n",
      "---------------------------\n",
      "loss: 0.832753 [   64/60000]\n",
      "loss: 0.909668 [ 6464/60000]\n",
      "loss: 0.678289 [12864/60000]\n",
      "loss: 0.874801 [19264/60000]\n",
      "loss: 0.778586 [25664/60000]\n",
      "loss: 0.779424 [32064/60000]\n",
      "loss: 0.860749 [38464/60000]\n",
      "loss: 0.798856 [44864/60000]\n",
      "loss: 0.823670 [51264/60000]\n",
      "loss: 0.777558 [57664/60000]\n",
      "Test Error: \n",
      " Accuracy: 70.9%, Avg loss: 0.788546\n",
      "\n",
      "Done!\n"
     ]
    }
   ],
   "source": [
    "loss_fn = nn.CrossEntropyLoss()\n",
    "optimizer = torch.optim.SGD(model.parameters(), lr=learning_rate)\n",
    "\n",
    "epochs = 10\n",
    "for t in range(epochs):\n",
    "    print(f\"Epoch {t+1}\\n---------------------------\")\n",
    "    train_loop(train_dataloader, model, loss_fn, optimizer)\n",
    "    test_loop(test_dataloader, model, loss_fn)\n",
    "print(\"Done!\")"
   ]
  },
  {
   "cell_type": "code",
   "execution_count": null,
   "id": "d4ce6ae8",
   "metadata": {},
   "outputs": [],
   "source": []
  },
  {
   "cell_type": "code",
   "execution_count": null,
   "id": "abdb0d47",
   "metadata": {},
   "outputs": [],
   "source": []
  }
 ],
 "metadata": {
  "kernelspec": {
   "display_name": "Python 3 (ipykernel)",
   "language": "python",
   "name": "python3"
  },
  "language_info": {
   "codemirror_mode": {
    "name": "ipython",
    "version": 3
   },
   "file_extension": ".py",
   "mimetype": "text/x-python",
   "name": "python",
   "nbconvert_exporter": "python",
   "pygments_lexer": "ipython3",
   "version": "3.8.13"
  }
 },
 "nbformat": 4,
 "nbformat_minor": 5
}
